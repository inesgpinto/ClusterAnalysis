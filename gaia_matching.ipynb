{
  "cells": [
    {
      "cell_type": "markdown",
      "id": "930f4166-9c7a-4294-ae48-670387404799",
      "metadata": {
        "id": "930f4166-9c7a-4294-ae48-670387404799"
      },
      "source": [
        "### ----------- GAIA matching function     ---------\n",
        "### PURPOSE: Find match of stars with GAIA\n",
        "### INPUT:   1. list of x,y positions in pixels\n",
        "###          2. header of astrometry image to get WCS (need to know the coordinates ra,dec)\n",
        "###          3. ra and dec of center image\n",
        "### OPTIONAL INPUT:\n",
        "###          - width: width of image in deg (may be slightly larger)\n",
        "###          - height: height of image in deg (may be larger)\n",
        "### OUTPUT:  centroid (ypix,xpix) of matched stars\n",
        "### DEPENDENCIES: photutils,astropy (python)"
      ]
    },
    {
      "cell_type": "code",
      "execution_count": null,
      "id": "0e5e8a7d-6f60-44c3-be19-5def8e9d2e94",
      "metadata": {
        "id": "0e5e8a7d-6f60-44c3-be19-5def8e9d2e94"
      },
      "outputs": [],
      "source": [
        "def match_gaia(sources,header,ra,dec,width=0.2,height=0.2):\n",
        "\n",
        "    from astropy.coordinates import SkyCoord\n",
        "    from astroquery.gaia import Gaia\n",
        "    from astropy.wcs import WCS\n",
        "    from astropy import units as u\n",
        "    Gaia.MAIN_GAIA_TABLE = \"gaiaedr3.gaia_source\"#edr3 or dr2\n",
        "    Gaia.ROW_LIMIT = -1\n",
        "\n",
        "    ## get ra,dec from WCS astrometry header\n",
        "    wcs_header = WCS(header)\n",
        "    #coords = wcs_header.pixel_to_world(sources['xcentroid'],sources['ycentroid'])\n",
        "    coords = wcs_header.pixel_to_world(sources[:,0],sources[:,1])\n",
        "\n",
        "\n",
        "    ## get Gaia catalog around center ra/dec values\n",
        "    cencoord = SkyCoord(ra=ra,dec=dec,unit=(u.deg,u.deg),frame='icrs')\n",
        "    width,height = u.Quantity(width, u.deg),u.Quantity(height, u.deg)\n",
        "    gaia_stars = Gaia.query_object_async(coordinate=cencoord, width=width, height=height)\n",
        "    gaia_coords = SkyCoord(ra=gaia_stars['ra'],dec=gaia_stars['dec'])\n",
        "\n",
        "    ## match catalogs\n",
        "    gidx, gd2d, gd3d = coords.match_to_catalog_sky(gaia_coords)\n",
        "    gbestidx=(gd2d.deg < 0.0008)                         #<0.00015deg=0.54''\n",
        "\n",
        "    ## output variables\n",
        "    star_ra,star_dec = np.zeros(len(sources),dtype=float),np.zeros(len(sources),dtype=float)\n",
        "    star_ra[:],star_dec[:] = np.nan,np.nan\n",
        "    star_ra[gbestidx] = gaia_stars['ra'][gidx[gbestidx]]\n",
        "    star_dec[gbestidx] = gaia_stars['dec'][gidx[gbestidx]]\n",
        "    star_par,star_parer = np.zeros(len(sources),dtype=float)*np.nan,np.zeros(len(sources),dtype=float)*np.nan\n",
        "    star_par[gbestidx] = gaia_stars['parallax'][gidx[gbestidx]]\n",
        "    star_parer[gbestidx] = gaia_stars['parallax_error'][gidx[gbestidx]]\n",
        "\n",
        "    ##print ds9 region\n",
        "    #f=open('/home/santiago/crisp/CAFOS-POL/20170713/2017eaw/regiontest.reg','w')\n",
        "    #for gst in gaia_stars: f.write(\"icrs;circle(%f,%f,0.0005)\\n\" %(gst['ra'],gst['dec']))\n",
        "    #f.close()\n",
        "    #f=open('/home/santiago/crisp/CAFOS-POL/20170713/2017eaw/regiontest2.reg','w')\n",
        "    #f.write('global color=red\\n')\n",
        "    #for co in coords: f.write(\"icrs;circle(%f,%f,0.001)\\n\" %(co.ra.value,co.dec.value))\n",
        "    #f.close()\n",
        "    return star_ra,star_dec,star_par,star_parer\n"
      ]
    },
    {
      "cell_type": "code",
      "execution_count": null,
      "id": "f5b090d7-f447-462d-8204-4ebd203450cf",
      "metadata": {
        "id": "f5b090d7-f447-462d-8204-4ebd203450cf"
      },
      "outputs": [],
      "source": [
        "\n"
      ]
    }
  ],
  "metadata": {
    "colab": {
      "provenance": []
    },
    "kernelspec": {
      "display_name": "Python 3 (ipykernel)",
      "language": "python",
      "name": "python3"
    },
    "language_info": {
      "codemirror_mode": {
        "name": "ipython",
        "version": 3
      },
      "file_extension": ".py",
      "mimetype": "text/x-python",
      "name": "python",
      "nbconvert_exporter": "python",
      "pygments_lexer": "ipython3",
      "version": "3.8.10"
    }
  },
  "nbformat": 4,
  "nbformat_minor": 5
}
