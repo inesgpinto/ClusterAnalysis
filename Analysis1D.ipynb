{
 "cells": [
  {
   "cell_type": "markdown",
   "metadata": {},
   "source": [
    "# Load Libraries"
   ]
  },
  {
   "cell_type": "code",
   "execution_count": null,
   "metadata": {},
   "outputs": [],
   "source": [
    "import numpy as np\n",
    "import matplotlib.pyplot as plt\n",
    "import pandas as pd\n",
    "\n",
    "import os\n",
    "import re\n",
    "import requests,io\n",
    "\n",
    "import astroalign\n",
    "\n",
    "from astropy.io import fits\n",
    "from astropy.stats import sigma_clipped_stats,gaussian_sigma_to_fwhm, SigmaClip\n",
    "from astropy.table import QTable, Table\n",
    "from astropy.utils.exceptions import AstropyDeprecationWarning\n",
    "\n",
    "\n",
    "from photutils.background import LocalBackground, MMMBackground,Background2D,MedianBackground\n",
    "from photutils.detection import DAOStarFinder\n",
    "from photutils.psf import PSFPhotometry, IterativePSFPhotometry, IntegratedGaussianPRF,prepare_psf_model, IterativelySubtractedPSFPhotometry, DAOGroup, SourceGrouper\n",
    "from shapely.geometry import LineString, Point\n",
    "from scipy import interpolate\n",
    "\n",
    "import warnings\n",
    "warnings.filterwarnings(\"ignore\", category=DeprecationWarning)\n",
    "from matplotlib.colors import LogNorm"
   ]
  },
  {
   "cell_type": "markdown",
   "metadata": {},
   "source": [
    "# Load the reduced data"
   ]
  },
  {
   "cell_type": "code",
   "execution_count": null,
   "metadata": {},
   "outputs": [],
   "source": [
    "data_path = 'data/reduced'"
   ]
  },
  {
   "cell_type": "code",
   "execution_count": null,
   "metadata": {},
   "outputs": [],
   "source": [
    "data = {}\n",
    "data[\"M29B\"] = np.load(f'{data_path}/M29B.npy')\n",
    "data[\"M29V\"] = np.load(f'{data_path}/M29G.npy')"
   ]
  },
  {
   "cell_type": "code",
   "execution_count": null,
   "metadata": {},
   "outputs": [],
   "source": [
    "for key, image in data.items():\n",
    "    print(image.shape)"
   ]
  },
  {
   "cell_type": "code",
   "execution_count": null,
   "metadata": {},
   "outputs": [],
   "source": [
    "error = {}\n",
    "error[\"M29B\"] = np.load(f'{data_path}/M29B_error.npy')\n",
    "error[\"M29V\"] = np.load(f'{data_path}/M29G_error.npy')[0]"
   ]
  },
  {
   "cell_type": "markdown",
   "metadata": {},
   "source": [
    "# Background Estimation\n"
   ]
  },
  {
   "cell_type": "code",
   "execution_count": null,
   "metadata": {},
   "outputs": [],
   "source": [
    "bkgs={}\n",
    "bkg_uncs = {}\n",
    "for key, image in data.items():\n",
    "    sigma_clip = SigmaClip(sigma=3.0)\n",
    "    bkg_estimator = MedianBackground()\n",
    "    bkg = Background2D(image,\n",
    "                       (64,48), #they say it works better if data is covered by int nb of boxes\n",
    "                       filter_size=(3,3),sigma_clip=sigma_clip,\n",
    "                    bkg_estimator=bkg_estimator)\n",
    "    bkgs[key] = bkg.background\n",
    "    bkg_uncs[key] = bkg.background_rms\n",
    "    plt.title(f'{key} background')\n",
    "    plt.imshow(bkg.background, origin='lower', cmap='Greys_r')\n",
    "    plt.show()\n",
    "\n",
    "    lo,up= np.percentile(image-bkg.background,1),np.percentile(image-bkg.background,99)\n",
    "    plt.imshow(image-bkg.background, cmap='gray', origin='lower', clim=(lo,up))\n",
    "    plt.title(f'{key} no background')\n",
    "    plt.show()\n",
    "\n",
    "    data[key] = image - bkg.background\n",
    "\n",
    "\n"
   ]
  },
  {
   "cell_type": "markdown",
   "metadata": {},
   "source": [
    "# Get 2D FWHM"
   ]
  },
  {
   "cell_type": "code",
   "execution_count": null,
   "metadata": {},
   "outputs": [],
   "source": [
    "xfwhms = {}\n",
    "yfwhms = {}\n",
    "fwhms = {}\n",
    "for key, image in data.items():\n",
    "    mean, median, std = sigma_clipped_stats(image,sigma=3.0,maxiters=50)\n",
    "    ## Find stars\n",
    "    daofind = DAOStarFinder(fwhm=5.5, threshold=6.0*std, exclude_border= True)\n",
    "    sources = daofind(image - median)\n",
    "    print(f\"Found {len(sources)} stars in image {key}\")\n",
    "\n",
    "    #Plot stars found\n",
    "    fig = plt.figure(figsize=(12,7))\n",
    "    l1 = np.percentile(image[np.isfinite(image)].flatten(), 1)\n",
    "    l2 = np.percentile(image[np.isfinite(image)].flatten(), 99)\n",
    "    plt.imshow(image,clim=(l1,l2),origin='lower')\n",
    "    plt.plot(sources[\"xcentroid\"],sources[\"ycentroid\"],'or',mfc='none')\n",
    "    plt.title(f\"found sources in {key}\")\n",
    "    plt.xlabel(\"x (pix)\")\n",
    "    plt.ylabel(\"y (pix)\")\n",
    "    plt.show()\n",
    "\n",
    "    ## Take nbright brightest stars \n",
    "    nbright = 5\n",
    "    brightest = np.argsort(sources['flux'])[::-1][0:nbright]\n",
    "    brsources = sources[brightest]\n",
    "\n",
    "    ##########\n",
    "    #get fwhm\n",
    "    rmax = 25\n",
    "    (ny,nx) = np.shape(image)\n",
    "    from astropy.modeling import models,fitting\n",
    "    fit_g = fitting.LevMarLSQFitter()\n",
    "    allxfwhm, allyfwhm = np.zeros(len(brsources)),np.zeros(len(brsources))\n",
    "    allfwhm,alltheta = np.zeros(len(brsources)),np.zeros(len(brsources))\n",
    "    for i,src in enumerate(brsources):\n",
    "        if int(src['ycentroid']) > rmax and int(src['ycentroid']) < ny-rmax and \\\n",
    "            int(src['xcentroid']) > rmax and int(src['xcentroid']) < nx-rmax:\n",
    "            img = image[int(src['ycentroid'])-rmax:int(src['ycentroid'])+rmax,\n",
    "                        int(src['xcentroid'])-rmax:int(src['xcentroid'])+rmax]\n",
    "            subx,suby = np.indices(img.shape) # instead of meshgrid\n",
    "            p_init = models.Gaussian2D(amplitude=np.max(img),x_mean=rmax,y_mean=rmax,x_stddev=1.0,y_stddev=1.0)\n",
    "            fitgauss = fit_g(p_init, subx, suby, img - np.min(img))\n",
    "            allxfwhm[i] = np.abs(fitgauss.x_stddev.value)\n",
    "            allyfwhm[i] = np.abs(fitgauss.y_stddev.value)\n",
    "            allfwhm[i] = 0.5*(allxfwhm[i]+allyfwhm[i])\n",
    "            alltheta[i] = fitgauss.theta.value\n",
    "    xfwhm,yfwhm = np.median(allxfwhm)*gaussian_sigma_to_fwhm,np.median(allyfwhm)*gaussian_sigma_to_fwhm\n",
    "    fwhm = np.median(allfwhm)*gaussian_sigma_to_fwhm\n",
    "    sigfwhm, sigxfwhm, sigyfwhm = np.std(allfwhm), np.std(allxfwhm), np.std(allyfwhm)\n",
    "    medtheta = np.median(alltheta)\n",
    "    print(f\"     x-FWHM {xfwhm}+/-{sigxfwhm} (pix) for this {key} \")\n",
    "    print(f\"     y-FWHM {yfwhm}+/-{sigyfwhm} (pix) for this {key} \")\n",
    "    print(f\"     FWHM {fwhm}+/-{sigfwhm} (pix) for this {key} \")\n",
    "\n",
    "    fwhms[key] = fwhm\n",
    "    xfwhms[key] = xfwhm\n",
    "    yfwhms[key] = yfwhm\n"
   ]
  },
  {
   "cell_type": "markdown",
   "metadata": {},
   "source": [
    "# 2d gaussians"
   ]
  },
  {
   "cell_type": "code",
   "execution_count": null,
   "metadata": {},
   "outputs": [],
   "source": [
    "twodgauss = {}\n",
    "psf_models = {}\n",
    "for key, image in data.items():\n",
    "    twodgauss[key] =  models.Gaussian2D(x_stddev=xfwhms[key]/gaussian_sigma_to_fwhm,\n",
    "                                        y_stddev=yfwhms[key]/gaussian_sigma_to_fwhm,\n",
    "                                        )\n",
    "    \n",
    "    #twodgauss[key].xname = 'x'\n",
    "    #twodgauss[key].yname = 'y'\n",
    "    #twodgauss[key].fluxname = 'amplitude'\n",
    "\n",
    "    psf_models[key] = prepare_psf_model(twodgauss[key],xname='x_mean',yname='y_mean',fluxname='amplitude')\n",
    "\n",
    "\n",
    "    "
   ]
  },
  {
   "cell_type": "markdown",
   "metadata": {},
   "source": [
    "# Find point sources more accuretly with FWHM\n",
    "more stars found this way:)"
   ]
  },
  {
   "cell_type": "code",
   "execution_count": null,
   "metadata": {},
   "outputs": [],
   "source": [
    "fwhms"
   ]
  },
  {
   "cell_type": "code",
   "execution_count": null,
   "metadata": {},
   "outputs": [],
   "source": [
    "x_inits = {}\n",
    "y_inits = {}\n",
    "\n",
    "daofinds = {}\n",
    "\n",
    "for key, image in data.items():\n",
    "\n",
    "    mean, median, std = sigma_clipped_stats(image,sigma=3.0,maxiters=50)\n",
    "    ## Find stars\n",
    "    daofind = DAOStarFinder(fwhm=fwhms[key], threshold=6.0*std, exclude_border= True)\n",
    "    sources = daofind(image - median)\n",
    "    print(f\"Found {len(sources)} stars in image {key}\")\n",
    "\n",
    "    daofinds[key]=daofind\n",
    "\n",
    "    #Plot stars found\n",
    "    fig = plt.figure(figsize=(12,7))\n",
    "    l1 = np.percentile(image[np.isfinite(image)].flatten(), 1)\n",
    "    l2 = np.percentile(image[np.isfinite(image)].flatten(), 99)\n",
    "    plt.imshow(image,clim=(l1,l2),origin='lower')\n",
    "    plt.plot(sources[\"xcentroid\"],sources[\"ycentroid\"],'or',mfc='none')\n",
    "    plt.title(f\"found sources in {key}\")\n",
    "    plt.xlabel(\"x (pix)\")\n",
    "    plt.ylabel(\"y (pix)\")\n",
    "    plt.show()\n",
    "\n",
    "    ## Take nbright brightest stars and save\n",
    "    nbright = 5\n",
    "    brightest = np.argsort(sources['flux'])[::-1]#[0:nbright]\n",
    "    brsources = sources[brightest]\n",
    "\n",
    "    x_inits[key] = brsources['xcentroid']\n",
    "    y_inits[key] = brsources['ycentroid']\n",
    "\n"
   ]
  },
  {
   "cell_type": "markdown",
   "metadata": {},
   "source": [
    "# Iterative PSF Photometry :)"
   ]
  },
  {
   "cell_type": "code",
   "execution_count": null,
   "metadata": {},
   "outputs": [],
   "source": [
    "phots = {}\n",
    "\n",
    "for key, image in data.items():\n",
    "\n",
    "    group = SourceGrouper(fwhms[key])\n",
    "    PSF = PSFPhotometry(\n",
    "        grouper=group ,     \n",
    "        psf_model=IntegratedGaussianPRF(sigma=fwhms[key]/gaussian_sigma_to_fwhm),\n",
    "        finder=daofinds[key],\n",
    "        fit_shape=(3,3), #play with this, this may be small\n",
    "        aperture_radius=5 ,#play with this as well\n",
    "        fitter_maxiters=500\n",
    "    )\n",
    "    init_params = QTable()\n",
    "    init_params['x'] = x_inits[key]\n",
    "    init_params['y'] = y_inits[key]\n",
    "\n",
    "    phots[key] = PSF(image, \n",
    "                        init_params = init_params,\n",
    "                        error=np.sqrt(np.square(bkg_uncs[key])+np.square(error[key])), \n",
    "                )"
   ]
  },
  {
   "cell_type": "markdown",
   "metadata": {},
   "source": [
    "## See found stars "
   ]
  },
  {
   "cell_type": "code",
   "execution_count": null,
   "metadata": {},
   "outputs": [],
   "source": [
    "\n",
    "plt.clf()\n",
    "fig = plt.figure(figsize=(12,7))\n",
    "#plt.scatter(phots['M29B']['x_fit'],phots['M29B']['y_fit'], marker='o', c='blue', alpha=0.5)\n",
    "#plt.scatter(phots['M29V']['x_fit'],phots['M29V']['y_fit'], marker='o', c='green',alpha=0.5)\n",
    "\n",
    "plt.errorbar(x=phots['M29B']['x_fit'],y=phots['M29B']['y_fit'],\n",
    "             xerr=phots['M29B']['x_err'],\n",
    "             yerr=phots['M29B']['y_err'],fmt='o', ecolor='blue', elinewidth=1, capsize=5,c='blue',label=\"M29B\",alpha=0.5\n",
    "              )\n",
    "plt.errorbar(x=phots['M29V']['x_fit'],y=phots['M29V']['y_fit'],\n",
    "             xerr=phots['M29V']['x_err'],\n",
    "             yerr=phots['M29V']['y_err'],fmt='o', ecolor='green', elinewidth=1, capsize=5,c='green',label=\"M29V\",alpha=0.5\n",
    "              )\n",
    "plt.legend()\n",
    "\n",
    "plt.show()"
   ]
  },
  {
   "cell_type": "markdown",
   "metadata": {},
   "source": [
    "## Create dataframe for both Filters"
   ]
  },
  {
   "cell_type": "code",
   "execution_count": null,
   "metadata": {},
   "outputs": [],
   "source": [
    "m29b = phots['M29B'].to_pandas()\n",
    "m29v = phots['M29V'].to_pandas()"
   ]
  },
  {
   "cell_type": "code",
   "execution_count": null,
   "metadata": {},
   "outputs": [],
   "source": [
    "# function to filter out some bad points\n",
    "\n",
    "def clean_df(data, n=0):\n",
    "    # Drop rows with missing values\n",
    "    df = data.dropna(inplace=False)\n",
    "\n",
    "    # Apply the initial filtering conditions\n",
    "    cond = (df['flags'] == 0) & (df['x_fit'] > 0) & (df['x_fit'] < 1536) & (df['y_fit'] > 0) & (df['y_fit'] < 1024)\n",
    "    filtered_df = df[cond].copy()\n",
    "\n",
    "    # Keep only nth lines with the highest 'flux_fit'\n",
    "    if n > 0:\n",
    "        filtered_df = filtered_df.nlargest(n, 'flux_fit')\n",
    "\n",
    "    return filtered_df\n",
    "\n",
    "\n"
   ]
  },
  {
   "cell_type": "code",
   "execution_count": null,
   "metadata": {},
   "outputs": [],
   "source": [
    "print(f\"B : {m29b.shape}\")\n",
    "print(f\"V : {m29v.shape}\")\n"
   ]
  },
  {
   "cell_type": "code",
   "execution_count": null,
   "metadata": {},
   "outputs": [],
   "source": [
    "m29b = clean_df(m29b)\n",
    "m29v = clean_df(m29v)\n",
    "print(f\"B : {m29b.shape}\")\n",
    "print(f\"V : {m29v.shape}\")"
   ]
  },
  {
   "cell_type": "code",
   "execution_count": null,
   "metadata": {},
   "outputs": [],
   "source": [
    "matched_indexes_b = []\n",
    "matched_indexes_v = []\n",
    "\n",
    "margin = 1 #2 pixeis\n",
    "\n",
    "dt_B = 45\n",
    "dt_V = 70\n",
    "\n",
    "m29 = pd.DataFrame(columns = [\"Bflux\", \"Vflux\",\"Bflux_err\",'Vflux_err'])\n",
    "with warnings.catch_warnings():\n",
    "    warnings.simplefilter(action='ignore', category=FutureWarning)\n",
    "    for i_m29v, row_m29v in m29v.iterrows():\n",
    "        for i_m29b, row_m29b in m29b.iterrows():\n",
    "            if abs(row_m29v['x_fit'] - row_m29b['x_fit']) < margin and abs(row_m29b['y_fit'] - row_m29v['y_fit']) < margin:\n",
    "\n",
    "                m29 = m29.append({\n",
    "                    'Bflux':row_m29b['flux_fit']/dt_B,\n",
    "                    'Vflux':row_m29v['flux_fit']/dt_V,\n",
    "                    'Bflux_err':row_m29b['flux_err']/dt_B,\n",
    "                    'Vflux_err':row_m29v['flux_err']/dt_V\n",
    "                                }, \n",
    "                                ignore_index= True)\n",
    "\n",
    "                if (i_m29v in matched_indexes_v) or (i_m29b in matched_indexes_b):\n",
    "                    print(f\"Something's wrong {i_m29v} {i_m29b}\")\n",
    "                matched_indexes_b.append(i_m29b)\n",
    "                matched_indexes_v.append(i_m29v)\n",
    "\n",
    "\n",
    "\n"
   ]
  },
  {
   "cell_type": "code",
   "execution_count": null,
   "metadata": {},
   "outputs": [],
   "source": [
    "m29.shape"
   ]
  },
  {
   "cell_type": "markdown",
   "metadata": {},
   "source": [
    "# HR Diagram Relative Magnitudes"
   ]
  },
  {
   "cell_type": "code",
   "execution_count": null,
   "metadata": {},
   "outputs": [],
   "source": [
    "\n",
    "plt.clf()\n",
    "fig = plt.figure(figsize=(12,7))\n",
    "\n",
    "plt.errorbar(y=-2.5*np.log10(m29.Bflux),x=-2.5*np.log10(m29.Bflux/m29.Vflux),\n",
    "             #xerr=phots['M29B']['x_err'],\n",
    "             #yerr=phots['M29B']['y_err'],\n",
    "             fmt='o', ecolor='blue', elinewidth=1, capsize=5,c='blue',label=\"M29B\",alpha=0.5\n",
    "              )\n",
    "\n",
    "plt.legend()\n",
    "\n",
    "plt.show()"
   ]
  },
  {
   "cell_type": "code",
   "execution_count": null,
   "metadata": {},
   "outputs": [],
   "source": [
    "def calc_m (flux):\n",
    "    return -2.5 * np.log10(flux)\n",
    "\n",
    "def calc_m_err(flux, flux_err):\n",
    "    return abs(-2.5/(flux*np.log(10))*flux_err)\n",
    "\n",
    "def calc_M (m,d):\n",
    "    return m - 5*np.log10(d) + 5\n",
    "\n",
    "def calc_M_err (m_err, d , d_err):\n",
    "    return np.sqrt(m_err **2 + ((-5/(d *np.log(10)))*d_err)**2 )\n",
    "    \n"
   ]
  },
  {
   "cell_type": "markdown",
   "metadata": {},
   "source": [
    "# Correct to Distance + Standard Star"
   ]
  },
  {
   "cell_type": "code",
   "execution_count": null,
   "metadata": {},
   "outputs": [],
   "source": [
    "#Standard star hip100108\n",
    "#https://simbad.cds.unistra.fr/simbad/sim-ref?bibcode=2020yCat.1350....0G\n",
    "d_StStar=  59.791\n",
    "d_StStar_err=0.1312 \n",
    "M_abs_StStar_B_true = 5.64\n",
    "M_abs_StStar_V_true = 5.58\n",
    "\n",
    "StStar_Bflux = 330820.5932283057\n",
    "StStar_Bflux_err= 26027.889649890487\n",
    "\n",
    "StStar_Vflux = 706937.6199424627\n",
    "StStar_Vflux_err = 73.57302933502534\n",
    "\n",
    "m_StStar_B = calc_m(StStar_Bflux) #+instrumental zero point\n",
    "m_StStar_B_err = calc_m_err(flux=StStar_Bflux, flux_err=StStar_Bflux_err)\n",
    "\n",
    "m_StStar_V = calc_m(StStar_Vflux) #+instrumental zero point\n",
    "m_StStar_V_err = calc_m_err(flux=StStar_Vflux, flux_err=StStar_Vflux_err)\n",
    "\n",
    "print(f\"Standard Star mB = {m_StStar_B} +- {m_StStar_B_err}\")\n",
    "print(f\"Standard Star mV = {m_StStar_V} +- {m_StStar_V_err}\")\n",
    "\n"
   ]
  },
  {
   "cell_type": "code",
   "execution_count": null,
   "metadata": {},
   "outputs": [],
   "source": [
    "M_abs_StStar_B = calc_M(m=m_StStar_B,d=d_StStar)\n",
    "M_abs_StStar_B_err = calc_M_err(m_err=m_StStar_B_err,d=d_StStar,d_err=d_StStar_err)\n",
    "\n",
    "M_abs_StStar_V = calc_M(m=m_StStar_V,d=d_StStar)\n",
    "M_abs_StStar_V_err = calc_M_err(m_err=m_StStar_V_err,d=d_StStar,d_err=d_StStar_err)\n",
    "\n",
    "print(f\"Standard Star MB = {M_abs_StStar_B} +- {M_abs_StStar_B_err}\")\n",
    "print(f\"Standard Star MV = {M_abs_StStar_V} +- {M_abs_StStar_V_err}\")\n",
    "\n"
   ]
  },
  {
   "cell_type": "code",
   "execution_count": null,
   "metadata": {},
   "outputs": [],
   "source": [
    "inst_calib_B = M_abs_StStar_B_true - M_abs_StStar_B\n",
    "inst_calib_V = M_abs_StStar_V_true - M_abs_StStar_V\n",
    "\n",
    "inst_calib_B_err = M_abs_StStar_B_err\n",
    "inst_calib_V_err = M_abs_StStar_V_err"
   ]
  },
  {
   "cell_type": "code",
   "execution_count": null,
   "metadata": {},
   "outputs": [],
   "source": [
    "m29[\"mB\"] = calc_m(flux=m29[\"Bflux\"])\n",
    "m29[\"mB_err\"] = calc_m_err(flux=m29[\"Bflux\"],flux_err=m29[\"Bflux_err\"])\n",
    "\n",
    "m29[\"mV\"] = calc_m(flux=m29[\"Vflux\"])\n",
    "m29[\"mV_err\"] = calc_m_err(flux=m29[\"Vflux\"],flux_err=m29[\"Vflux_err\"])\n",
    "\n",
    "\n"
   ]
  },
  {
   "cell_type": "code",
   "execution_count": null,
   "metadata": {},
   "outputs": [],
   "source": [
    "#https://simbad.cds.unistra.fr/simbad/sim-ref?bibcode=2021MNRAS.504..356D\n",
    "d= 1785\n",
    "d_err=107\n",
    "\n",
    "MB_uncalib = calc_M(m=m29[\"mB\"],d=d)\n",
    "MB_uncalib_err = calc_M_err(m_err=m29[\"mB_err\"],d=d,d_err=d_err)\n",
    "\n",
    "MV_uncalib = calc_M(m=m29[\"mV\"],d=d)\n",
    "MV_uncalib_err = calc_M_err(m_err=m29[\"mV_err\"],d=d,d_err=d_err)\n"
   ]
  },
  {
   "cell_type": "code",
   "execution_count": null,
   "metadata": {},
   "outputs": [],
   "source": [
    "m29[\"MB\"] = inst_calib_B + MB_uncalib\n",
    "m29[\"MB_err\"] = np.sqrt( inst_calib_B_err**2 + MB_uncalib_err**2 )\n",
    "\n",
    "m29[\"MV\"] = inst_calib_V + MV_uncalib\n",
    "m29[\"MV_err\"] = np.sqrt( inst_calib_V_err**2 + MV_uncalib_err**2 )"
   ]
  },
  {
   "cell_type": "code",
   "execution_count": null,
   "metadata": {},
   "outputs": [],
   "source": [
    "m29[\"BV\"] = m29[\"MB\"] - m29[\"MV\"]\n",
    "m29[\"BV_err\"] = np.sqrt( m29[\"MB_err\"]**2 + m29[\"MV_err\"]**2  )"
   ]
  },
  {
   "cell_type": "code",
   "execution_count": null,
   "metadata": {},
   "outputs": [],
   "source": [
    "plt.clf()\n",
    "fig = plt.figure(figsize=(12,7))\n",
    "plt.errorbar(\n",
    "    x=m29[\"BV\"],\n",
    "    y=m29[\"MB\"],\n",
    "    xerr=m29[\"BV_err\"],\n",
    "    yerr=m29[\"MB_err\"],\n",
    "    fmt='o', ecolor='blue', elinewidth=1, capsize=5,c='blue'\n",
    ")\n",
    "plt.xlabel('B-V')\n",
    "plt.ylabel('M B')\n",
    "\n",
    "plt.title(\"HR diagram - M29\")\n",
    "plt.grid(True)\n",
    "plt.show()"
   ]
  },
  {
   "cell_type": "code",
   "execution_count": null,
   "metadata": {},
   "outputs": [],
   "source": [
    "m29[\"BV\"] = -2.5*np.log10(m29[\"Bflux\"]/m29[\"Vflux\"])\n",
    "\n",
    "m29[\"BV_err\"] = np.sqrt( np.square( calc_m_err(m29[\"Bflux\"],m29[\"Bflux_err\"] ))  +  np.square( calc_m_err(m29[\"Vflux\"],m29[\"Vflux_err\"] )) )"
   ]
  },
  {
   "cell_type": "markdown",
   "metadata": {},
   "source": [
    "# HR Diagram"
   ]
  },
  {
   "cell_type": "code",
   "execution_count": null,
   "metadata": {},
   "outputs": [],
   "source": [
    "plt.clf()\n",
    "fig = plt.figure(figsize=(12,7))\n",
    "plt.errorbar(\n",
    "    x=m29[\"BV\"],\n",
    "    y=m29[\"MB\"],\n",
    "    xerr=m29[\"BV_err\"],\n",
    "    yerr=m29[\"MB_err\"],\n",
    "    fmt='o', ecolor='blue', elinewidth=1, capsize=5,c='blue'\n",
    ")\n",
    "plt.xlabel('B-V')\n",
    "plt.ylabel('M B')\n",
    "\n",
    "plt.gca().invert_yaxis()\n",
    "\n",
    "plt.title(\"HR diagram - M29\")\n",
    "plt.grid(True)\n",
    "plt.show()"
   ]
  },
  {
   "cell_type": "markdown",
   "metadata": {},
   "source": [
    "## Remove points w/ bigger uncertainties"
   ]
  },
  {
   "cell_type": "code",
   "execution_count": null,
   "metadata": {},
   "outputs": [],
   "source": [
    "acc = 0.25\n",
    "#condition to remove data point\n",
    "m29 = m29[(m29['BV_err'] < acc) & (m29['MB_err'] < acc)]\n",
    "\n",
    "plt.clf()\n",
    "fig = plt.figure(figsize=(12,7))\n",
    "plt.errorbar(\n",
    "    x=m29[\"BV\"],\n",
    "    y=m29[\"MB\"],\n",
    "    xerr=m29[\"BV_err\"],\n",
    "    yerr=m29[\"MB_err\"],\n",
    "    fmt='o', ecolor='blue', elinewidth=1, capsize=5,c='blue'\n",
    ")\n",
    "plt.xlabel('B-V')\n",
    "plt.ylabel('M B')\n",
    "\n",
    "plt.gca().invert_yaxis()\n",
    "\n",
    "plt.title(\"HR diagram - M29\")\n",
    "plt.grid(True)\n",
    "plt.show()\n"
   ]
  },
  {
   "cell_type": "markdown",
   "metadata": {},
   "source": [
    "# Isochrone Fitting"
   ]
  },
  {
   "cell_type": "code",
   "execution_count": null,
   "metadata": {},
   "outputs": [],
   "source": [
    "#Read the models\n",
    "#Important: Open the model file (in any text editor) and remove the # at the beginning of the line 13 (names of the columns)\n",
    "#Otherwise python won't know the column names and will call them col1, col2 etc.\n",
    "isochrones = Table.read('data/models/m29_isochrones_fit.dat', format='ascii')\n",
    "print(isochrones.columns)\n",
    "\n",
    "#Let's see which ages we have in the model file\n",
    "logages=np.unique(isochrones['logAge']) #find the unique age entries\n",
    "ages=np.unique(10**isochrones['logAge']/1e6) #in Myrs\n",
    "for logage, age in zip(logages,ages): print(logage,age) #print all of that"
   ]
  },
  {
   "cell_type": "code",
   "execution_count": null,
   "metadata": {},
   "outputs": [],
   "source": [
    "#you can select the isochrone with some particular age\n",
    "age_1 = isochrones['logAge'] == 7 \n",
    "age_2 = isochrones['logAge'] == 7.09691 \n",
    "age_3 = isochrones['logAge'] == 7.17609 \n",
    "age_4 = isochrones['logAge'] == 7.24304 \n",
    "\n",
    "fig,[ax1,ax2] = plt.subplots(nrows=1,ncols=2,figsize=(17,7))\n",
    "ax1.plot(isochrones['Bmag'][age_1] - isochrones['Vmag'][age_1], isochrones['Bmag'][age_1],label='10 Myr')\n",
    "ax1.plot(isochrones['Bmag'][age_2] - isochrones['Vmag'][age_2], isochrones['Bmag'][age_2],label='12.5 Myr')\n",
    "ax1.plot(isochrones['Bmag'][age_3] - isochrones['Vmag'][age_3], isochrones['Bmag'][age_3],label='15 Myr')\n",
    "ax1.plot(isochrones['Bmag'][age_4] - isochrones['Vmag'][age_4], isochrones['Bmag'][age_4],label='17.5 Myr')\n",
    "ax1.invert_yaxis()\n",
    "ax1.set_xlabel('BV color index',fontsize=14)\n",
    "ax1.set_ylabel('B',fontsize=14)\n",
    "ax1.legend()\n",
    "\n",
    "#We can cut off the more evolved stages\n",
    "N=250\n",
    "ax2.plot(isochrones['Bmag'][age_1][0:N] - isochrones['Vmag'][age_1][0:N], isochrones['Bmag'][age_1][0:N],label='10 Myr')\n",
    "ax2.plot(isochrones['Bmag'][age_2][0:N] - isochrones['Vmag'][age_2][0:N], isochrones['Bmag'][age_2][0:N],label='12.5 Myr')\n",
    "ax2.plot(isochrones['Bmag'][age_3][0:N] - isochrones['Vmag'][age_3][0:N], isochrones['Bmag'][age_3][0:N],label='15 Myr')\n",
    "ax2.plot(isochrones['Bmag'][age_4][0:N] - isochrones['Vmag'][age_4][0:N], isochrones['Bmag'][age_4][0:N],label='17.5 Myr')\n",
    "ax2.invert_yaxis()\n",
    "ax2.set_xlabel('BV color index',fontsize=14)\n",
    "ax2.set_ylabel('B',fontsize=14)\n",
    "ax2.legend()"
   ]
  },
  {
   "cell_type": "code",
   "execution_count": null,
   "metadata": {},
   "outputs": [],
   "source": [
    "#Let's now plot a model on top of our data, just approximately\n",
    "fig = plt.figure(figsize=(7,7))\n",
    "plt.errorbar(\n",
    "    x=m29[\"BV\"],\n",
    "    y=m29[\"MB\"],\n",
    "    xerr=m29[\"BV_err\"],\n",
    "    yerr=m29[\"MB_err\"],\n",
    "    fmt='o', ecolor='blue', elinewidth=1, capsize=5,c='blue'\n",
    ")\n",
    "#plt.ylim(21,2)\n",
    "plt.xlabel('color index BP',fontsize=14)\n",
    "plt.ylabel('B',fontsize=14)\n",
    "\n",
    "#Important: isochrones are given in absolute magnitudes, while the data come in apparent\n",
    "#median_parallax=np.nanmedian(data['parallax'])\n",
    "#dist=1000/median_parallax #Important: This distance here is just for demonstration (approximate), we will use a different method o determine it\n",
    "#DM=5*np.log10(dist)-5 #distance modulus\n",
    "#print('distance modulus:',DM)\n",
    "plt.plot(isochrones['Bmag'][age_2][0:N] - isochrones['Vmag'][age_2][0:N], isochrones['Bmag'][age_2][0:N],label='12.5 Myr')\n",
    "plt.plot(isochrones['Bmag'][age_3][0:N] - isochrones['Vmag'][age_3][0:N], isochrones['Bmag'][age_3][0:N],label='15 Myr')\n",
    "plt.legend()\n",
    "#print(dist)"
   ]
  },
  {
   "cell_type": "code",
   "execution_count": null,
   "metadata": {},
   "outputs": [],
   "source": [
    "#all the ages that we will test\n",
    "ages=np.unique(isochrones['logAge'])\n",
    "\n",
    "#distance\n",
    "dmin,dmax,step=100,2000,100\n",
    "distances = np.arange(dmin,dmax,step)\n",
    "\n",
    "#define an array to save the root-mean-square deviation values\n",
    "rmsd=np.zeros(shape=(len(ages),len(distances)))\n",
    "for i in range(len(ages)):\n",
    "    age=ages[i]\n",
    "    for j in range(len(distances)):\n",
    "\n",
    "        ## model\n",
    "        distance=distances[j]\n",
    "        DM=5*np.log10(distance)-5 #distance modulus\n",
    "        isochrone=isochrones[isochrones['logAge'] == age][0:N]\n",
    "        col_iso = isochrone['Bmag'] - isochrone['Vmag'] #color isochrone\n",
    "        mag_iso = isochrone['Vmag'] + DM #magnitude isochrone, shifted to the distance of the cluster\n",
    "        line = LineString(np.asarray([col_iso,mag_iso]).T) #Representation of the isochrone as a continuous line\n",
    "\n",
    "        ## data\n",
    "        d=np.empty(len(data))\n",
    "        for k in range(len(data)):\n",
    "\n",
    "            col_data=m29['BV'][k]\n",
    "\n",
    "            mag_data=m29['MV'][k]\n",
    "\n",
    "            point=Point(col_data,mag_data)\n",
    "            d[k] = point.distance(line) #shortest distance of the point to the line of the isochrone\n",
    "        rmsd[i,j]=np.sqrt(np.nanmean(d)**2)\n",
    "\n",
    "fig,ax = plt.subplots(figsize=(7,7))\n",
    "pos=ax.imshow(rmsd,cmap='PiYG', norm=LogNorm(),origin='lower',\n",
    "               extent=[distances[0],distances[-1],10**ages[0]/1e6,10**ages[-1]/1e6],aspect='auto')\n",
    "fig.colorbar(pos, ax=ax)#,format= \"%d\")\n",
    "\n",
    "#Find the grid position of the minimum rmsd\n",
    "minrmsd_pos=np.unravel_index(rmsd.argmin(), rmsd.shape)\n",
    "print(np.nanmin(rmsd),minrmsd_pos)\n",
    "print(\"*** Best fit model: age = \", np.round(10**ages[minrmsd_pos[0]]/1e6),'Myr; distance=',distances[minrmsd_pos[1]],'pc')\n",
    "best_age=ages[minrmsd_pos[0]]\n",
    "best_dist=distances[minrmsd_pos[1]]\n",
    "plt.xlabel('distance in pc',fontsize=15)\n",
    "plt.ylabel('age in Myr',fontsize=15)"
   ]
  },
  {
   "cell_type": "code",
   "execution_count": null,
   "metadata": {},
   "outputs": [],
   "source": []
  },
  {
   "cell_type": "code",
   "execution_count": null,
   "metadata": {},
   "outputs": [],
   "source": []
  },
  {
   "cell_type": "code",
   "execution_count": null,
   "metadata": {},
   "outputs": [],
   "source": []
  },
  {
   "cell_type": "code",
   "execution_count": null,
   "metadata": {},
   "outputs": [],
   "source": []
  }
 ],
 "metadata": {
  "kernelspec": {
   "display_name": "Python 3",
   "language": "python",
   "name": "python3"
  },
  "language_info": {
   "codemirror_mode": {
    "name": "ipython",
    "version": 3
   },
   "file_extension": ".py",
   "mimetype": "text/x-python",
   "name": "python",
   "nbconvert_exporter": "python",
   "pygments_lexer": "ipython3",
   "version": "3.10.12"
  },
  "orig_nbformat": 4
 },
 "nbformat": 4,
 "nbformat_minor": 2
}
